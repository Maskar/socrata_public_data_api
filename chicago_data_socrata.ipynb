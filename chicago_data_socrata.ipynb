{
 "cells": [
  {
   "cell_type": "markdown",
   "id": "persistent-islam",
   "metadata": {},
   "source": [
    "# Chicago City Data Socrata API\n",
    "  \n",
    "Author: Mourad Askar\n",
    "\n",
    "**Download the data from Chicago Data Portal**  \n"
   ]
  },
  {
   "cell_type": "code",
   "execution_count": 9,
   "id": "inclusive-housing",
   "metadata": {
    "tags": []
   },
   "outputs": [
    {
     "name": "stdout",
     "output_type": "stream",
     "text": [
      "python 3.9.10\n",
      "pandas 1.4.0\n"
     ]
    }
   ],
   "source": [
    "from datetime import date\n",
    "from platform import python_version\n",
    "\n",
    "import IPython\n",
    "import IPython.display\n",
    "\n",
    "import pandas as pd\n",
    "\n",
    "from sodapy import Socrata\n",
    "\n",
    "\n",
    "%precision 2\n",
    "pd.set_option('display.max_columns',200)\n",
    "pd.set_option('display.precision',2)\n",
    "pd.set_option('display.float_format','{:,.4f}'.format)\n",
    "\n",
    "print('python',python_version())\n",
    "print(pd.__name__, pd.__version__)"
   ]
  },
  {
   "cell_type": "markdown",
   "id": "agricultural-contractor",
   "metadata": {},
   "source": [
    "## Download Dataset"
   ]
  },
  {
   "cell_type": "markdown",
   "id": "ab2a0507",
   "metadata": {},
   "source": [
    "### Socrata API batch downloader"
   ]
  },
  {
   "cell_type": "code",
   "execution_count": 10,
   "id": "df5e9579",
   "metadata": {},
   "outputs": [],
   "source": [
    "# Code to download the dataset in batches to adhere with socrata api 50K data limit\n",
    "def download_from_chicago_data(socrata_api_domain, app_token, dataset_identifier, **query_params):\n",
    "    # Get dateset metadata\n",
    "    # References:\n",
    "    #  https://pypi.org/project/sodapy/\n",
    "    #  https://dev.socrata.com/docs/transforms/\n",
    "\n",
    "    content_type = 'csv' # ['json', 'csv']\n",
    "    df_raw = None\n",
    "    # Records limit per batch (Max = 50,000)\n",
    "    limit = 50000\n",
    "    # Init offset to zero\n",
    "    offset = 0\n",
    "\n",
    "    print(f'offset: {offset}')\n",
    "    print('Batch Records:', 0)\n",
    "    print('Total Records:', 0)\n",
    "    print('\\nloading...')\n",
    "\n",
    "    with Socrata(socrata_api_domain, app_token, timeout=100) as client:\n",
    "        while(True):            \n",
    "            data = client.get(\n",
    "                dataset_identifier, content_type,\n",
    "                **query_params,\n",
    "                limit = limit,\n",
    "                offset = offset\n",
    "                )\n",
    "\n",
    "            df_raw_batch = pd.DataFrame(data) # convert to pandas dataframe\n",
    "            df_raw_batch = df_raw_batch.rename(columns=df_raw_batch.iloc[0]).drop(df_raw_batch.index[0]) # rename df columns as first row and drop it\n",
    "\n",
    "            if offset == 0:\n",
    "                df_raw = df_raw_batch.copy()\n",
    "            else:\n",
    "                df_raw = df_raw.append(df_raw_batch)\n",
    "\n",
    "            IPython.display.clear_output(wait=True)\n",
    "            print(f'offset: {offset}')\n",
    "            print('Batch Records:', df_raw_batch.shape[0])\n",
    "            print('Total Records:', df_raw.shape[0])\n",
    "            print('\\nloading...')\n",
    "                    \n",
    "            if df_raw_batch.shape[0] < limit:\n",
    "                # Break if returned batch is less than limit size\n",
    "                break\n",
    "            else:\n",
    "                # Else, offset by batch limit size, and loop again\n",
    "                offset += limit\n",
    "        \n",
    "    IPython.display.clear_output(wait=True)\n",
    "\n",
    "    print('Total Records:', df_raw.shape[0])\n",
    "    print()\n",
    "    return df_raw"
   ]
  },
  {
   "cell_type": "markdown",
   "id": "04b98918",
   "metadata": {},
   "source": [
    "### Set Dataset Parameters"
   ]
  },
  {
   "cell_type": "code",
   "execution_count": 11,
   "id": "73287ff7-b7bf-46e0-ab40-7a84427246f1",
   "metadata": {
    "tags": []
   },
   "outputs": [],
   "source": [
    "# Load API key from file\n",
    "with open('/Users/maskar/.keys/.chicago_data', 'rt', ) as token_file:\n",
    "        app_token = token_file.readline().strip()\n",
    "        #print(app_token)"
   ]
  },
  {
   "cell_type": "code",
   "execution_count": 12,
   "id": "eda7ef0e",
   "metadata": {},
   "outputs": [],
   "source": [
    "# Set these to the appropriate values\n",
    "dataset_name = 'chicago-divvy-trips-data' # custom dataset name for file name\n",
    "dataset_identifier = 'fg6s-gzvg' # from https://data.cityofchicago.org/Transportation/Divvy-Trips/fg6s-gzvg"
   ]
  },
  {
   "cell_type": "code",
   "execution_count": 13,
   "id": "direct-harvest",
   "metadata": {
    "tags": []
   },
   "outputs": [
    {
     "name": "stdout",
     "output_type": "stream",
     "text": [
      "date_stamp: 20220205\n"
     ]
    }
   ],
   "source": [
    "# Dont't need to change these\n",
    "date_stamp = date.today().strftime('%Y%m%d')\n",
    "print(f'date_stamp: {date_stamp}')\n",
    "\n",
    "file_output_csv = f'{date_stamp}_{dataset_name}.csv'\n",
    "file_output_parquet = f'{date_stamp}_{dataset_name}.parquet'\n",
    "\n",
    "socrata_api_domain = 'data.cityofchicago.org'"
   ]
  },
  {
   "cell_type": "code",
   "execution_count": 14,
   "id": "df5e9579",
   "metadata": {},
   "outputs": [
    {
     "name": "stdout",
     "output_type": "stream",
     "text": [
      "TRIP ID (number)\n",
      "START TIME (calendar_date)\n",
      "STOP TIME (calendar_date)\n",
      "BIKE ID (text)\n",
      "TRIP DURATION (number)\n",
      "FROM STATION ID (text)\n",
      "FROM STATION NAME (text)\n",
      "TO STATION ID (text)\n",
      "TO STATION NAME (text)\n",
      "USER TYPE (text)\n",
      "GENDER (text)\n",
      "BIRTH YEAR (number)\n",
      "FROM LATITUDE (number)\n",
      "FROM LONGITUDE (number)\n",
      "FROM LOCATION (point)\n",
      "TO LATITUDE (number)\n",
      "TO LONGITUDE (number)\n",
      "TO LOCATION (point)\n",
      "Boundaries - ZIP Codes (number)\n",
      "Zip Codes (number)\n",
      "Community Areas (number)\n",
      "Wards (number)\n"
     ]
    }
   ],
   "source": [
    "# Get dateset metadata\n",
    "# Reference: https://pypi.org/project/sodapy/\n",
    "with Socrata(socrata_api_domain, app_token) as client:\n",
    "    meta_data = client.get_metadata(dataset_identifier)\n",
    "    #print(meta_data['columns'])\n",
    "    [print(f\"{column['name']} ({column['dataTypeName']})\") for column in meta_data['columns']]\n",
    "    # Expect to query column names with _ instead of spaces"
   ]
  },
  {
   "cell_type": "markdown",
   "id": "1f0694e4",
   "metadata": {},
   "source": [
    "### Query Parameters"
   ]
  },
  {
   "cell_type": "code",
   "execution_count": 15,
   "id": "cdb97952-e7d2-4486-b94d-a3cf6ca37c1f",
   "metadata": {
    "execution": {
     "iopub.execute_input": "2021-07-29T19:45:44.446968Z",
     "iopub.status.busy": "2021-07-29T19:45:44.446693Z",
     "iopub.status.idle": "2021-07-29T19:45:44.483245Z",
     "shell.execute_reply": "2021-07-29T19:45:44.482476Z",
     "shell.execute_reply.started": "2021-07-29T19:45:44.446943Z"
    },
    "tags": []
   },
   "outputs": [],
   "source": [
    "# Limit date range\n",
    "date_from = '2019-01-01'\n",
    "date_to   = '2019-01-02'"
   ]
  },
  {
   "cell_type": "markdown",
   "id": "62bfd0a7",
   "metadata": {},
   "source": [
    "### Query Socrata API"
   ]
  },
  {
   "cell_type": "code",
   "execution_count": 16,
   "id": "d012c6d8",
   "metadata": {},
   "outputs": [
    {
     "name": "stdout",
     "output_type": "stream",
     "text": [
      "Total Records: 5482\n",
      "\n"
     ]
    }
   ],
   "source": [
    "df_raw = download_from_chicago_data(socrata_api_domain, app_token, dataset_identifier,\n",
    "                select = \"TRIP_ID, START_TIME, BIKE_ID\",\n",
    "                where = f\"date_trunc_ymd(START_TIME) between '{date_from}' and '{date_to}'\", # date_trunc_ymd sets the time component to 00:00:00\n",
    "                order = \"START_TIME DESC\",\n",
    "                )"
   ]
  },
  {
   "cell_type": "markdown",
   "id": "db7f9d92",
   "metadata": {},
   "source": [
    "### Review Result Dataset"
   ]
  },
  {
   "cell_type": "code",
   "execution_count": 17,
   "id": "89852eaf",
   "metadata": {},
   "outputs": [
    {
     "name": "stdout",
     "output_type": "stream",
     "text": [
      "           count unique                      top freq\n",
      "TRIP_ID     5482   5482                 21749149    1\n",
      "START_TIME  5482   5283  2019-01-02T08:26:27.000    4\n",
      "BIKE_ID     5482   1944                     6118   16\n",
      "\n",
      "<class 'pandas.core.frame.DataFrame'>\n",
      "RangeIndex: 5482 entries, 1 to 5482\n",
      "Data columns (total 3 columns):\n",
      " #   Column      Non-Null Count  Dtype \n",
      "---  ------      --------------  ----- \n",
      " 0   TRIP_ID     5482 non-null   object\n",
      " 1   START_TIME  5482 non-null   object\n",
      " 2   BIKE_ID     5482 non-null   object\n",
      "dtypes: object(3)\n",
      "memory usage: 128.6+ KB\n",
      "None\n",
      "\n"
     ]
    },
    {
     "data": {
      "text/html": [
       "<div>\n",
       "<style scoped>\n",
       "    .dataframe tbody tr th:only-of-type {\n",
       "        vertical-align: middle;\n",
       "    }\n",
       "\n",
       "    .dataframe tbody tr th {\n",
       "        vertical-align: top;\n",
       "    }\n",
       "\n",
       "    .dataframe thead th {\n",
       "        text-align: right;\n",
       "    }\n",
       "</style>\n",
       "<table border=\"1\" class=\"dataframe\">\n",
       "  <thead>\n",
       "    <tr style=\"text-align: right;\">\n",
       "      <th></th>\n",
       "      <th>TRIP_ID</th>\n",
       "      <th>START_TIME</th>\n",
       "      <th>BIKE_ID</th>\n",
       "    </tr>\n",
       "  </thead>\n",
       "  <tbody>\n",
       "    <tr>\n",
       "      <th>1</th>\n",
       "      <td>21749149</td>\n",
       "      <td>2019-01-02T23:59:55.000</td>\n",
       "      <td>896</td>\n",
       "    </tr>\n",
       "    <tr>\n",
       "      <th>2</th>\n",
       "      <td>21749148</td>\n",
       "      <td>2019-01-02T23:53:05.000</td>\n",
       "      <td>3876</td>\n",
       "    </tr>\n",
       "    <tr>\n",
       "      <th>3</th>\n",
       "      <td>21749147</td>\n",
       "      <td>2019-01-02T23:50:06.000</td>\n",
       "      <td>3384</td>\n",
       "    </tr>\n",
       "    <tr>\n",
       "      <th>4</th>\n",
       "      <td>21749146</td>\n",
       "      <td>2019-01-02T23:48:39.000</td>\n",
       "      <td>2454</td>\n",
       "    </tr>\n",
       "    <tr>\n",
       "      <th>5</th>\n",
       "      <td>21749145</td>\n",
       "      <td>2019-01-02T23:44:56.000</td>\n",
       "      <td>6397</td>\n",
       "    </tr>\n",
       "    <tr>\n",
       "      <th>...</th>\n",
       "      <td>...</td>\n",
       "      <td>...</td>\n",
       "      <td>...</td>\n",
       "    </tr>\n",
       "    <tr>\n",
       "      <th>5478</th>\n",
       "      <td>21742447</td>\n",
       "      <td>2019-01-01T00:14:52.000</td>\n",
       "      <td>1170</td>\n",
       "    </tr>\n",
       "    <tr>\n",
       "      <th>5479</th>\n",
       "      <td>21742446</td>\n",
       "      <td>2019-01-01T00:13:45.000</td>\n",
       "      <td>252</td>\n",
       "    </tr>\n",
       "    <tr>\n",
       "      <th>5480</th>\n",
       "      <td>21742445</td>\n",
       "      <td>2019-01-01T00:13:23.000</td>\n",
       "      <td>1524</td>\n",
       "    </tr>\n",
       "    <tr>\n",
       "      <th>5481</th>\n",
       "      <td>21742444</td>\n",
       "      <td>2019-01-01T00:08:13.000</td>\n",
       "      <td>4386</td>\n",
       "    </tr>\n",
       "    <tr>\n",
       "      <th>5482</th>\n",
       "      <td>21742443</td>\n",
       "      <td>2019-01-01T00:04:37.000</td>\n",
       "      <td>2167</td>\n",
       "    </tr>\n",
       "  </tbody>\n",
       "</table>\n",
       "<p>5482 rows × 3 columns</p>\n",
       "</div>"
      ],
      "text/plain": [
       "       TRIP_ID               START_TIME BIKE_ID\n",
       "1     21749149  2019-01-02T23:59:55.000     896\n",
       "2     21749148  2019-01-02T23:53:05.000    3876\n",
       "3     21749147  2019-01-02T23:50:06.000    3384\n",
       "4     21749146  2019-01-02T23:48:39.000    2454\n",
       "5     21749145  2019-01-02T23:44:56.000    6397\n",
       "...        ...                      ...     ...\n",
       "5478  21742447  2019-01-01T00:14:52.000    1170\n",
       "5479  21742446  2019-01-01T00:13:45.000     252\n",
       "5480  21742445  2019-01-01T00:13:23.000    1524\n",
       "5481  21742444  2019-01-01T00:08:13.000    4386\n",
       "5482  21742443  2019-01-01T00:04:37.000    2167\n",
       "\n",
       "[5482 rows x 3 columns]"
      ]
     },
     "metadata": {},
     "output_type": "display_data"
    }
   ],
   "source": [
    "# Show data range downloaded\n",
    "print(df_raw.describe(datetime_is_numeric=True).T)\n",
    "print()\n",
    "\n",
    "# Show data info\n",
    "print(df_raw.info())\n",
    "print()\n",
    "\n",
    "display(df_raw)"
   ]
  },
  {
   "cell_type": "markdown",
   "id": "0c3c3cf7",
   "metadata": {},
   "source": [
    "### Save Result Dataset"
   ]
  },
  {
   "cell_type": "code",
   "execution_count": 18,
   "id": "a814a932",
   "metadata": {},
   "outputs": [],
   "source": [
    "df_raw.to_csv(file_output_csv, index=False)\n",
    "df_raw.to_parquet(file_output_parquet, index=False)"
   ]
  }
 ],
 "metadata": {
  "interpreter": {
   "hash": "d148f84dcfc990bdccf8564468af6070a78ba83f9ade4c48448f1d1e1a1a3ab0"
  },
  "kernelspec": {
   "display_name": "ThinkMarkets",
   "language": "python",
   "name": "python3"
  },
  "language_info": {
   "codemirror_mode": {
    "name": "ipython",
    "version": 3
   },
   "file_extension": ".py",
   "mimetype": "text/x-python",
   "name": "python",
   "nbconvert_exporter": "python",
   "pygments_lexer": "ipython3",
   "version": "3.9.10"
  }
 },
 "nbformat": 4,
 "nbformat_minor": 5
}
